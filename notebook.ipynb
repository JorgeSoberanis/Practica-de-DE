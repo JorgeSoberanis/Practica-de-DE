{
 "cells": [
  {
   "cell_type": "markdown",
   "metadata": {},
   "source": [
    "###\n",
    "Buenas, este es mi segundo proyecto de manera independiente sobre un analisi de datos.\n",
    "En este caso, es un dataset sobre la policia de EE.UU y la mortalidad de este escudron.\n"
   ]
  },
  {
   "cell_type": "markdown",
   "metadata": {},
   "source": [
    "Empezamos importando la libreria de numpy y pandas con sus acronimos"
   ]
  },
  {
   "cell_type": "code",
   "execution_count": 2,
   "metadata": {},
   "outputs": [],
   "source": [
    "import pandas  as pd\n",
    "import numpy as np"
   ]
  },
  {
   "cell_type": "markdown",
   "metadata": {},
   "source": [
    "Pasaremos ahora a exportar el data set para asi poder trabajar con el."
   ]
  },
  {
   "cell_type": "code",
   "execution_count": 4,
   "metadata": {},
   "outputs": [
    {
     "data": {
      "text/html": [
       "<div>\n",
       "<style scoped>\n",
       "    .dataframe tbody tr th:only-of-type {\n",
       "        vertical-align: middle;\n",
       "    }\n",
       "\n",
       "    .dataframe tbody tr th {\n",
       "        vertical-align: top;\n",
       "    }\n",
       "\n",
       "    .dataframe thead th {\n",
       "        text-align: right;\n",
       "    }\n",
       "</style>\n",
       "<table border=\"1\" class=\"dataframe\">\n",
       "  <thead>\n",
       "    <tr style=\"text-align: right;\">\n",
       "      <th></th>\n",
       "      <th>Rank</th>\n",
       "      <th>Name</th>\n",
       "      <th>Cause_of_Death</th>\n",
       "      <th>Date</th>\n",
       "      <th>Year</th>\n",
       "      <th>Month</th>\n",
       "      <th>Day</th>\n",
       "      <th>Department</th>\n",
       "      <th>State</th>\n",
       "      <th>K9_Unit</th>\n",
       "    </tr>\n",
       "  </thead>\n",
       "  <tbody>\n",
       "    <tr>\n",
       "      <th>0</th>\n",
       "      <td>Constable</td>\n",
       "      <td>Darius Quimby</td>\n",
       "      <td>Stabbed</td>\n",
       "      <td>Monday, January 3, 1791</td>\n",
       "      <td>1791</td>\n",
       "      <td>January</td>\n",
       "      <td>Monday</td>\n",
       "      <td>Albany County Constable's Office, NY</td>\n",
       "      <td>New York</td>\n",
       "      <td>0</td>\n",
       "    </tr>\n",
       "    <tr>\n",
       "      <th>1</th>\n",
       "      <td>Sheriff</td>\n",
       "      <td>Cornelius Hogeboom</td>\n",
       "      <td>Gunfire</td>\n",
       "      <td>Saturday, October 22, 1791</td>\n",
       "      <td>1791</td>\n",
       "      <td>October</td>\n",
       "      <td>Saturday</td>\n",
       "      <td>Columbia County Sheriff's Office, NY</td>\n",
       "      <td>New York</td>\n",
       "      <td>0</td>\n",
       "    </tr>\n",
       "    <tr>\n",
       "      <th>2</th>\n",
       "      <td>Deputy Sheriff</td>\n",
       "      <td>Isaac Smith</td>\n",
       "      <td>Gunfire</td>\n",
       "      <td>Thursday, May 17, 1792</td>\n",
       "      <td>1792</td>\n",
       "      <td>May</td>\n",
       "      <td>Thursday</td>\n",
       "      <td>Westchester County Sheriff's Department, NY</td>\n",
       "      <td>New York</td>\n",
       "      <td>0</td>\n",
       "    </tr>\n",
       "    <tr>\n",
       "      <th>3</th>\n",
       "      <td>Marshal</td>\n",
       "      <td>Robert Forsyth</td>\n",
       "      <td>Gunfire</td>\n",
       "      <td>Saturday, January 11, 1794</td>\n",
       "      <td>1794</td>\n",
       "      <td>January</td>\n",
       "      <td>Saturday</td>\n",
       "      <td>United States Department of Justice - United S...</td>\n",
       "      <td>United States</td>\n",
       "      <td>0</td>\n",
       "    </tr>\n",
       "    <tr>\n",
       "      <th>4</th>\n",
       "      <td>Deputy Sheriff</td>\n",
       "      <td>Robert Berwick</td>\n",
       "      <td>Gunfire</td>\n",
       "      <td>Thursday, June 29, 1797</td>\n",
       "      <td>1797</td>\n",
       "      <td>June</td>\n",
       "      <td>Thursday</td>\n",
       "      <td>New York County Sheriff's Office, NY</td>\n",
       "      <td>New York</td>\n",
       "      <td>0</td>\n",
       "    </tr>\n",
       "  </tbody>\n",
       "</table>\n",
       "</div>"
      ],
      "text/plain": [
       "             Rank                Name Cause_of_Death  \\\n",
       "0       Constable       Darius Quimby        Stabbed   \n",
       "1         Sheriff  Cornelius Hogeboom        Gunfire   \n",
       "2  Deputy Sheriff         Isaac Smith        Gunfire   \n",
       "3         Marshal      Robert Forsyth        Gunfire   \n",
       "4  Deputy Sheriff      Robert Berwick        Gunfire   \n",
       "\n",
       "                         Date  Year    Month       Day  \\\n",
       "0     Monday, January 3, 1791  1791  January    Monday   \n",
       "1  Saturday, October 22, 1791  1791  October  Saturday   \n",
       "2      Thursday, May 17, 1792  1792      May  Thursday   \n",
       "3  Saturday, January 11, 1794  1794  January  Saturday   \n",
       "4     Thursday, June 29, 1797  1797     June  Thursday   \n",
       "\n",
       "                                          Department          State  K9_Unit  \n",
       "0               Albany County Constable's Office, NY       New York        0  \n",
       "1               Columbia County Sheriff's Office, NY       New York        0  \n",
       "2        Westchester County Sheriff's Department, NY       New York        0  \n",
       "3  United States Department of Justice - United S...  United States        0  \n",
       "4               New York County Sheriff's Office, NY       New York        0  "
      ]
     },
     "execution_count": 4,
     "metadata": {},
     "output_type": "execute_result"
    }
   ],
   "source": [
    "dt = pd.read_csv(\"police_deaths_in_america.csv\")\n",
    "dt.head(2)"
   ]
  },
  {
   "cell_type": "code",
   "execution_count": null,
   "metadata": {},
   "outputs": [],
   "source": []
  }
 ],
 "metadata": {
  "interpreter": {
   "hash": "04c99251120b9783bb57db04925b02d6d9a65330f6ca271b364357389b908c1b"
  },
  "kernelspec": {
   "display_name": "Python 3.10.2 64-bit",
   "language": "python",
   "name": "python3"
  },
  "language_info": {
   "codemirror_mode": {
    "name": "ipython",
    "version": 3
   },
   "file_extension": ".py",
   "mimetype": "text/x-python",
   "name": "python",
   "nbconvert_exporter": "python",
   "pygments_lexer": "ipython3",
   "version": "3.10.2"
  },
  "orig_nbformat": 4
 },
 "nbformat": 4,
 "nbformat_minor": 2
}
